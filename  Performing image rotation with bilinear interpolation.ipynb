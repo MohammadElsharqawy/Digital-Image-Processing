{
  "nbformat": 4,
  "nbformat_minor": 0,
  "metadata": {
    "colab": {
      "provenance": [],
      "mount_file_id": "1SVuphE3reeYcbFd1oshY_NAHnyXPDBoQ",
      "authorship_tag": "ABX9TyOPmDjmxGKwEfnWQZM9wpw/"
    },
    "kernelspec": {
      "name": "python3",
      "display_name": "Python 3"
    },
    "language_info": {
      "name": "python"
    }
  },
  "cells": [
    {
      "cell_type": "code",
      "execution_count": null,
      "metadata": {
        "id": "a-05LbKrcvzC"
      },
      "outputs": [],
      "source": [
        "import numpy as np\n",
        "import cv2\n",
        "from google.colab.patches import cv2_imshow\n",
        "from math import sin,cos,pi"
      ]
    },
    {
      "cell_type": "code",
      "source": [
        "def bilinear_interpolation(image, x, y, theta):\n",
        "    #x,y= int(np.ceil((x)*xScale))-1,int(np.ceil((y) * yScale))-1\n",
        "\n",
        "    theta_rad = theta * (pi/180)\n",
        "\n",
        "    #new_origin\n",
        "    x0 = image.shape[0] / 2\n",
        "    y0 = image.shape[1] / 2\n",
        "\n",
        "    x,y = x-x0, y-y0\n",
        "    #rotate by (-theta)\n",
        "    x,y = x*cos(theta_rad)+y*sin(theta_rad),  x*-sin(theta_rad)+ y*cos(theta_rad)\n",
        "\n",
        "    #spatial origin\n",
        "    x,y = x+x0, y+y0\n",
        "\n",
        "\n",
        "\n",
        "    x1 = int(np.floor(x))\n",
        "    y1 = int(np.floor(y))\n",
        "    x2 = int(np.ceil(x))\n",
        "    y2 = int(np.ceil(y))\n",
        "\n",
        "\n",
        "    if x1 < 0 or x1 >= image.shape[0]  or x2 < 0 or x2 >= image.shape[0] or y1 < 0  or y1 >= image.shape[1] or y2 < 0  or y2 >= image.shape[1]:\n",
        "        return [0,0,0]\n",
        "\n",
        "    a = image[x1,y1]\n",
        "    b = image[x1,y2]\n",
        "    c = image[x2,y1]\n",
        "    d = image[x2,y2]\n",
        "\n",
        "    dx = x - x1\n",
        "    dy = y - y1\n",
        "\n",
        "    new_pixel = a * (1 - dx) * (1 - dy)\n",
        "    new_pixel= np.add(new_pixel,b * dy * (1 - dx))\n",
        "    new_pixel= np.add(new_pixel,c * dx * (1 - dy))\n",
        "    new_pixel= np.add(new_pixel, d * dx * dy)\n",
        "\n",
        "    return new_pixel"
      ],
      "metadata": {
        "id": "8FcP8eMNdCu2"
      },
      "execution_count": null,
      "outputs": []
    },
    {
      "cell_type": "code",
      "source": [
        "def rotate(m, theta):\n",
        "    w, h = m.shape[:2];\n",
        "\n",
        "    newImage = np.zeros([w, h, 3]);\n",
        "\n",
        "    for i in range(w):\n",
        "      for j in range(h):\n",
        "        newImage[i , j ]= bilinear_interpolation(m,i,j, theta)\n",
        "\n",
        "    return newImage\n"
      ],
      "metadata": {
        "id": "_7tbH-5ydXir"
      },
      "execution_count": null,
      "outputs": []
    },
    {
      "cell_type": "code",
      "source": [
        "img = cv2.imread('/content/drive/MyDrive/DIP/download.png',1)\n",
        "cv2_imshow(img)\n",
        "print()\n",
        "cv2_imshow(rotate(img, 108))\n",
        "\n",
        "print()\n",
        "\n",
        "import imutils\n",
        "print()\n",
        "cv2_imshow(imutils.rotate(img,angle=108))"
      ],
      "metadata": {
        "id": "5RsbyMwBc37U",
        "colab": {
          "base_uri": "https://localhost:8080/",
          "height": 651
        },
        "outputId": "91775ac2-f29e-49a5-fa11-65436a0e9cd0"
      },
      "execution_count": null,
      "outputs": [
        {
          "output_type": "display_data",
          "data": {
            "text/plain": [
              "<PIL.Image.Image image mode=RGB size=259x194 at 0x7F5133412F10>"
            ],
            "image/png": "[encoded data removed]"
          },
          "metadata": {}
        },
        {
          "output_type": "stream",
          "name": "stdout",
          "text": [
            "\n"
          ]
        },
        {
          "output_type": "display_data",
          "data": {
            "text/plain": [
              "<PIL.Image.Image image mode=RGB size=259x194 at 0x7F51329BCB50>"
            ],
            "image/png": "[encoded data removed]"
          },
          "metadata": {}
        },
        {
          "output_type": "stream",
          "name": "stdout",
          "text": [
            "\n",
            "\n"
          ]
        },
        {
          "output_type": "display_data",
          "data": {
            "text/plain": [
              "<PIL.Image.Image image mode=RGB size=259x194 at 0x7F5133412AD0>"
            ],
            "image/png": "[encoded data removed]"
          },
          "metadata": {}
        }
      ]
    },
    {
      "cell_type": "code",
      "source": [
        "cv2_imshow(rotate(img, 175))\n",
        "\n",
        "print()\n",
        "\n",
        "import imutils\n",
        "print()\n",
        "cv2_imshow(imutils.rotate(img,angle=175))"
      ],
      "metadata": {
        "colab": {
          "base_uri": "https://localhost:8080/",
          "height": 440
        },
        "id": "UNXcj_VSJQlc",
        "outputId": "cd0db656-f425-4369-bb3e-5bc73bec09b3"
      },
      "execution_count": null,
      "outputs": [
        {
          "output_type": "display_data",
          "data": {
            "text/plain": [
              "<PIL.Image.Image image mode=RGB size=259x194 at 0x7F5133421510>"
            ],
            "image/png": "[encoded data removed]"
          },
          "metadata": {}
        },
        {
          "output_type": "stream",
          "name": "stdout",
          "text": [
            "\n",
            "\n"
          ]
        },
        {
          "output_type": "display_data",
          "data": {
            "text/plain": [
              "<PIL.Image.Image image mode=RGB size=259x194 at 0x7F5133421510>"
            ],
            "image/png": "[encoded data removed]"
          },
          "metadata": {}
        }
      ]
    }
  ]
}